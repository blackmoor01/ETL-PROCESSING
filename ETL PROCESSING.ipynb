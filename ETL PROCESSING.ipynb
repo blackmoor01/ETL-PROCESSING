{
 "cells": [
  {
   "cell_type": "code",
   "execution_count": 4,
   "id": "9bdc355f-4cfc-4953-8cd5-d53dffdbd32a",
   "metadata": {},
   "outputs": [],
   "source": [
    "# Import the necessary libraries\n",
    "import pandas as pd\n",
    "from sqlalchemy import create_engine"
   ]
  },
  {
   "cell_type": "code",
   "execution_count": 6,
   "id": "7b4ed7a2-de41-4b3d-af20-2602f8cf45cf",
   "metadata": {},
   "outputs": [],
   "source": [
    "# Read the flatfiles\n",
    "file_paths = [\"students.csv\"]\n",
    "dataframes = [pd.read_csv(file_path) for file_path in file_paths]\n",
    "df = pd.concat(dataframes, ignore_index = True)"
   ]
  },
  {
   "cell_type": "code",
   "execution_count": 7,
   "id": "c846e2e4-0a45-4964-b4be-563db5673e18",
   "metadata": {},
   "outputs": [
    {
     "data": {
      "text/html": [
       "<div>\n",
       "<style scoped>\n",
       "    .dataframe tbody tr th:only-of-type {\n",
       "        vertical-align: middle;\n",
       "    }\n",
       "\n",
       "    .dataframe tbody tr th {\n",
       "        vertical-align: top;\n",
       "    }\n",
       "\n",
       "    .dataframe thead th {\n",
       "        text-align: right;\n",
       "    }\n",
       "</style>\n",
       "<table border=\"1\" class=\"dataframe\">\n",
       "  <thead>\n",
       "    <tr style=\"text-align: right;\">\n",
       "      <th></th>\n",
       "      <th>Name</th>\n",
       "      <th>Age</th>\n",
       "      <th>Grade</th>\n",
       "      <th>Registration Date</th>\n",
       "    </tr>\n",
       "  </thead>\n",
       "  <tbody>\n",
       "    <tr>\n",
       "      <th>0</th>\n",
       "      <td>Jeffery Smith MD</td>\n",
       "      <td>28.0</td>\n",
       "      <td>B</td>\n",
       "      <td>06-08-2024</td>\n",
       "    </tr>\n",
       "    <tr>\n",
       "      <th>1</th>\n",
       "      <td>Kristina Lewis</td>\n",
       "      <td>30.0</td>\n",
       "      <td>D</td>\n",
       "      <td>20-10-2021</td>\n",
       "    </tr>\n",
       "    <tr>\n",
       "      <th>2</th>\n",
       "      <td>Susan Sloan</td>\n",
       "      <td>NaN</td>\n",
       "      <td>A</td>\n",
       "      <td>01-05-2023</td>\n",
       "    </tr>\n",
       "    <tr>\n",
       "      <th>3</th>\n",
       "      <td>Kevin Simpson</td>\n",
       "      <td>NaN</td>\n",
       "      <td>A</td>\n",
       "      <td>13-06-2024</td>\n",
       "    </tr>\n",
       "    <tr>\n",
       "      <th>4</th>\n",
       "      <td>Dylan Griffin</td>\n",
       "      <td>NaN</td>\n",
       "      <td>A</td>\n",
       "      <td>01-02-2022</td>\n",
       "    </tr>\n",
       "  </tbody>\n",
       "</table>\n",
       "</div>"
      ],
      "text/plain": [
       "               Name   Age Grade Registration Date\n",
       "0  Jeffery Smith MD  28.0     B        06-08-2024\n",
       "1    Kristina Lewis  30.0     D        20-10-2021\n",
       "2       Susan Sloan   NaN     A        01-05-2023\n",
       "3     Kevin Simpson   NaN     A        13-06-2024\n",
       "4     Dylan Griffin   NaN     A        01-02-2022"
      ]
     },
     "execution_count": 7,
     "metadata": {},
     "output_type": "execute_result"
    }
   ],
   "source": [
    "# Pxreviewing the content of the students csv file.\n",
    "df.head()"
   ]
  },
  {
   "cell_type": "code",
   "execution_count": 10,
   "id": "8d9c9f07-f887-4172-a980-d6797e6c3779",
   "metadata": {},
   "outputs": [],
   "source": [
    "# Transfornmation of datasets\n",
    "\n",
    "# Renaming the columns\n",
    "df.columns= df.columns.str.lower().str.replace(\" \", \"_\")\n"
   ]
  },
  {
   "cell_type": "code",
   "execution_count": 11,
   "id": "92d01d1c-e067-470a-b169-2a6b5ff5a462",
   "metadata": {},
   "outputs": [],
   "source": [
    "# Ensure Numeric age\n",
    "df[\"age\"] = pd.to_numeric(df[\"age\"], errors=\"coerce\") "
   ]
  },
  {
   "cell_type": "code",
   "execution_count": 12,
   "id": "8176cc3e-98ad-444c-b1f5-d38ad8525520",
   "metadata": {},
   "outputs": [],
   "source": [
    "avg_age = df[\"age\"].mean(skipna=True)\n",
    "\n",
    "# Replace invalid with average\n",
    "df[\"age\"] = df[\"age\"].fillna(avg_age).astype(int)"
   ]
  },
  {
   "cell_type": "code",
   "execution_count": 13,
   "id": "f17515a9-84ba-4b45-a7da-dd66081624a5",
   "metadata": {},
   "outputs": [],
   "source": [
    "# Conversion of registration to datetime format\n",
    "df[\"registration_date\"] = pd.to_datetime(df[\"registration_date\"], errors = \"coerce\")"
   ]
  },
  {
   "cell_type": "code",
   "execution_count": 14,
   "id": "bad4c55a-366c-4568-b444-66d60767c220",
   "metadata": {},
   "outputs": [],
   "source": [
    "# Filling of empty registration date gaps making data very consistent\n",
    "df[\"registration_date\"] = df[\"registration_date\"].fillna(pd.Timestamp(\"1970-01-01\")).dt.strftime(\"%Y-%m-%d\")"
   ]
  },
  {
   "cell_type": "code",
   "execution_count": 17,
   "id": "f4a0365c-d6ec-437f-b033-b3c70eb7d216",
   "metadata": {},
   "outputs": [],
   "source": [
    "# Add a srudent_id column\n",
    "df[\"student_id\"] = range(1, len(df) + 1)"
   ]
  },
  {
   "cell_type": "code",
   "execution_count": 18,
   "id": "d0a97731-d66f-4c1f-9276-abd55621dd1e",
   "metadata": {},
   "outputs": [],
   "source": [
    "# Drop rows with missing names\n",
    "df = df.dropna(subset=[\"name\"])"
   ]
  },
  {
   "cell_type": "code",
   "execution_count": null,
   "id": "f70ff66a-6141-4d0b-8573-8ac4decc4cff",
   "metadata": {},
   "outputs": [],
   "source": []
  },
  {
   "cell_type": "code",
   "execution_count": null,
   "id": "5b6aa246-90bb-470c-9a67-334a88536d86",
   "metadata": {},
   "outputs": [
    {
     "name": "stdout",
     "output_type": "stream",
     "text": [
      "An error occurred during the ETL process. Check the log for details.\n"
     ]
    }
   ],
   "source": [
    "import os\n",
    "from dotenv import load_dotenv\n",
    "import logging\n",
    "import traceback\n",
    "from sqlalchemy import create_engine\n",
    "import pandas as pd\n",
    "\n",
    "# Load environment variables from .env file\n",
    "load_dotenv()\n",
    "\n",
    "# Set up logging\n",
    "logging.basicConfig(filename='etl_process.log', level=logging.DEBUG, format='%(asctime)s - %(levelname)s - %(message)s')\n",
    "\n",
    "username = os.getenv('MYSQL_USERNAME')\n",
    "password = os.getenv('MYSQL_PASSWORD')\n",
    "host = os.getenv('MYSQL_HOST')\n",
    "database = os.getenv('MYSQL_DATABASE')\n",
    "\n",
    "try:\n",
    "    engine = create_engine(f'mysql+pymysql://{username}:{password}@{host}/{database}')\n",
    "    df.to_sql('students', con=engine, if_exists='replace', index=False)  # Replace 'students' with your table name\n",
    "    logging.info(\"ETL Process Completed Successfully!\")\n",
    "    print(\"ETL Process Completed Successfully!\")\n",
    "except Exception as e:\n",
    "    logging.error(\"An error occurred during the ETL process:\")\n",
    "    logging.error(f\"Error message: {str(e)}\")\n",
    "    logging.error(\"Stack trace:\")\n",
    "    logging.error(traceback.format_exc())  # Log detailed stack trace\n",
    "    print(\"An error occurred during the ETL process. Check the log for details.\")\n"
   ]
  },
  {
   "cell_type": "code",
   "execution_count": null,
   "id": "01c5ac3f-7354-4a6a-88e4-ebb4eb489283",
   "metadata": {},
   "outputs": [],
   "source": []
  }
 ],
 "metadata": {
  "kernelspec": {
   "display_name": "Python 3 (ipykernel)",
   "language": "python",
   "name": "python3"
  },
  "language_info": {
   "codemirror_mode": {
    "name": "ipython",
    "version": 3
   },
   "file_extension": ".py",
   "mimetype": "text/x-python",
   "name": "python",
   "nbconvert_exporter": "python",
   "pygments_lexer": "ipython3",
   "version": "3.8.10"
  }
 },
 "nbformat": 4,
 "nbformat_minor": 5
}
